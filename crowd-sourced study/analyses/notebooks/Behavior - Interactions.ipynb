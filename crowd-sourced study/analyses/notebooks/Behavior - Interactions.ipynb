{
 "cells": [
  {
   "cell_type": "markdown",
   "metadata": {},
   "source": [
    "# Left, Right, Gender"
   ]
  },
  {
   "cell_type": "markdown",
   "metadata": {},
   "source": [
    "## Supplemental Material -- Behavior"
   ]
  },
  {
   "cell_type": "markdown",
   "metadata": {},
   "source": [
    "### Library Imports"
   ]
  },
  {
   "cell_type": "code",
   "execution_count": 1,
   "metadata": {},
   "outputs": [],
   "source": [
    "%matplotlib inline\n",
    "\n",
    "import pandas as pd\n",
    "import numpy as np\n",
    "import matplotlib.pyplot as plt\n",
    "from matplotlib import transforms, pyplot\n",
    "import os\n",
    "import json\n",
    "import ast\n",
    "import matplotlib.cm as cm\n",
    "from matplotlib.patches import Rectangle, Circle\n",
    "from matplotlib.patches import Patch\n",
    "from matplotlib.legend import Legend\n",
    "from matplotlib.lines import Line2D\n",
    "from scipy.stats import kurtosis, skew\n",
    "pd.set_option('display.max_rows', 500)\n",
    "from datetime import datetime\n",
    "import matplotlib.patches as mpatches\n",
    "from matplotlib.ticker import MaxNLocator\n",
    "from scipy.stats import f_oneway"
   ]
  },
  {
   "cell_type": "markdown",
   "metadata": {},
   "source": [
    "### Constants"
   ]
  },
  {
   "cell_type": "code",
   "execution_count": 2,
   "metadata": {},
   "outputs": [],
   "source": [
    "experiment_modes = [\"CTRL\", \"SUM\", \"RT\", \"RTSUM\"] # AYS == CTRL\n",
    "colors = ['#b3e2cd','#fdcdac','#cbd5e8','#f4cae4']\n",
    "hatches = [\"\\\\\\\\\", \"o\", \"+\", \"*\"]\n",
    "meancolor = '#3498db'\n",
    "mediancolor = 'red'"
   ]
  },
  {
   "cell_type": "markdown",
   "metadata": {},
   "source": [
    "### Re-used methods"
   ]
  },
  {
   "cell_type": "code",
   "execution_count": 3,
   "metadata": {},
   "outputs": [],
   "source": [
    "def custom_tick_boxplot(df, filename, columns, by, no_of_groups=4):\n",
    "\n",
    "    meanpointprops = dict(marker='s', markeredgecolor='black', markerfacecolor=meancolor, markersize=8)\n",
    "    medianlineprops = dict(linestyle='-', linewidth=3, color=mediancolor)\n",
    "    boxprops = dict(linestyle='-', linewidth=1, color='black')\n",
    "    whiskerprops = dict(linestyle='-', linewidth=1, color='black')\n",
    "    flierprops = dict(linestyle='-', linewidth=1, color='black')\n",
    "    maxvalue = df[columns[0]].max()\n",
    "    minvalue=0\n",
    "    bp_dict = df.boxplot(by=by, \n",
    "                          whiskerprops=whiskerprops, \n",
    "                          boxprops=boxprops, \n",
    "                          vert=False, \n",
    "                          column=columns, \n",
    "                          meanprops=meanpointprops, \n",
    "                          showmeans=True, \n",
    "                          medianprops=medianlineprops,\n",
    "                          layout=(8,1),\n",
    "                          figsize=(5, 20),\n",
    "                          return_type='both',\n",
    "                          patch_artist = True,\n",
    "                          widths=[0.7]*no_of_groups\n",
    "                         )\n",
    "\n",
    "    for row_key, (ax,row) in bp_dict.iteritems():\n",
    "        ax.grid(alpha=0.4, b=True)\n",
    "        ax_title = ax.get_title()        \n",
    "\n",
    "        if int(maxvalue/4) > 0:\n",
    "            ax.set_xticks(np.arange(minvalue, maxvalue*1.1, int(maxvalue/4)))\n",
    "        else:\n",
    "            ax.set_xticks(np.arange(minvalue, maxvalue*1.1, maxvalue))\n",
    "\n",
    "        ax.set_ylabel(ax_title, rotation=0, labelpad=15, fontsize=14, horizontalalignment='right', verticalalignment='center')\n",
    "        ax.set_xlabel('', labelpad=10, fontsize=14)\n",
    "        ax.tick_params(axis='both', which='major', labelsize=12, length=0, pad=10)\n",
    "        ax.set_title('')\n",
    "\n",
    "        for j,s in enumerate(ax.spines):\n",
    "            ax.spines[s].set_visible(False)\n",
    "\n",
    "        for i,box in enumerate(row['boxes']):\n",
    "            box.set_facecolor(colors[i])\n",
    "            box.set_hatch(hatches[i])\n",
    "            \n",
    "            \n",
    "    stats_list = list()\n",
    "    for col in columns:        \n",
    "        mean_list = list()\n",
    "        for item in df[[col,by[0]]].groupby(by[0]).mean().round(2).reset_index().values.tolist():\n",
    "            mean_obj = dict()\n",
    "            mean_obj[\"experiment_mode\"] = item[0]\n",
    "            mean_obj[\"mean\"] = item[1]\n",
    "            mean_list.append(mean_obj)\n",
    "            \n",
    "        median_list = list()\n",
    "        for item in df[[col,by[0]]].groupby(by[0]).median().round(2).reset_index().values.tolist():\n",
    "            median_obj = dict()\n",
    "            median_obj[\"experiment_mode\"] = item[0]\n",
    "            median_obj[\"median\"] = item[1]\n",
    "            median_list.append(median_obj)\n",
    "\n",
    "        std_list = list()\n",
    "        for item in df[[col,by[0]]].groupby(by[0]).std().round(2).reset_index().values.tolist():\n",
    "            std_obj = dict()\n",
    "            std_obj[\"experiment_mode\"] = item[0]\n",
    "            std_obj[\"std\"] = item[1]\n",
    "            std_list.append(std_obj)\n",
    "            \n",
    "        for index, obj in enumerate(std_list):\n",
    "            stats_dict = dict()\n",
    "            stats_dict[\"column\"] = col\n",
    "            stats_dict[\"experiment_mode\"] = obj[\"experiment_mode\"]\n",
    "            stats_dict[\"mean\"] = mean_list[index][\"mean\"]\n",
    "            stats_dict[\"median\"] = median_list[index][\"median\"]\n",
    "            stats_dict[\"std\"] = std_list[index][\"std\"]\n",
    "            stats_list.append(stats_dict)\n",
    "\n",
    "    df_stats = pd.DataFrame(stats_list)\n",
    "    print(df_stats)\n",
    "    \n",
    "    df1 = df.copy()\n",
    "    vals = df.groupby(by[0])[columns[0]].apply(list).reset_index(name='new')[\"new\"].values\n",
    "    \n",
    "    f_stat, p_val = f_oneway(*vals)\n",
    "    print(\"P Value: \", round(p_val, 4))\n",
    "\n",
    "    plt.title(\"\")\n",
    "    plt.suptitle(\"\")\n",
    "    plt.subplots_adjust(wspace=None, hspace=0.5)\n",
    "    plt.savefig(filename, bbox_inches = \"tight\")\n",
    "    plt.show()"
   ]
  },
  {
   "cell_type": "markdown",
   "metadata": {},
   "source": [
    "# Politics"
   ]
  },
  {
   "cell_type": "markdown",
   "metadata": {},
   "source": [
    "## Summary plots - Attribute"
   ]
  },
  {
   "cell_type": "markdown",
   "metadata": {},
   "source": [
    "#### Create a combined DF with both Control and Awareness"
   ]
  },
  {
   "cell_type": "code",
   "execution_count": 4,
   "metadata": {},
   "outputs": [],
   "source": [
    "df_attribute_stats = pd.DataFrame()\n",
    "for experiment_mode in experiment_modes:\n",
    "    inputfile_attribute_stats = f\"{experiment_mode}/all_{experiment_mode}_politics_attr_stats.csv\"\n",
    "    _df = pd.read_csv(inputfile_attribute_stats, sep=\",\")\n",
    "    _df[\"experiment_mode\"] = experiment_mode\n",
    "    df_attribute_stats = df_attribute_stats.append(_df)\n",
    "    \n",
    "df_attribute_stats[\"total_attribute_interactions\"] = df_attribute_stats[\"count_encode_changed\"] + df_attribute_stats[\"count_filter_changed\"] + df_attribute_stats[\"count_dist_card_click\"]"
   ]
  },
  {
   "cell_type": "markdown",
   "metadata": {},
   "source": [
    "### Which Condition clicked more on the Distribution Panel Cards?"
   ]
  },
  {
   "cell_type": "code",
   "execution_count": 5,
   "metadata": {},
   "outputs": [
    {
     "name": "stderr",
     "output_type": "stream",
     "text": [
      "/Users/curiosity/anaconda3/lib/python3.8/site-packages/numpy/core/_asarray.py:83: VisibleDeprecationWarning: Creating an ndarray from ragged nested sequences (which is a list-or-tuple of lists-or-tuples-or ndarrays with different lengths or shapes) is deprecated. If you meant to do this, you must specify 'dtype=object' when creating the ndarray\n",
      "  return array(a, dtype, copy=False, order=order)\n"
     ]
    },
    {
     "name": "stdout",
     "output_type": "stream",
     "text": [
      "                  column experiment_mode  mean  median   std\n",
      "0  count_dist_card_click              RT  0.23       0  0.53\n",
      "1  count_dist_card_click           RTSUM  0.15       0  0.49\n",
      "P Value:  0.2368\n"
     ]
    },
    {
     "data": {
      "image/png": "[encoded data removed]",
      "text/plain": [
       "<Figure size 360x1440 with 8 Axes>"
      ]
     },
     "metadata": {
      "needs_background": "light"
     },
     "output_type": "display_data"
    }
   ],
   "source": [
    "df_attribute_stats_shortened = df_attribute_stats[df_attribute_stats[\"experiment_mode\"].isin([\"RT\", \"RTSUM\"])]\n",
    "columns = [\"count_dist_card_click\"]\n",
    "by = [\"experiment_mode\"]\n",
    "filename=\"charts/basic_eda/politics/count_distribution_card_changed.pdf\"\n",
    "custom_tick_boxplot(df=df_attribute_stats_shortened, \n",
    "                      by=by,\n",
    "                      columns=columns, \n",
    "                      filename=filename,\n",
    "                      no_of_groups=2)"
   ]
  },
  {
   "cell_type": "markdown",
   "metadata": {},
   "source": [
    "### Which Condition _changed_ more attribute Filters?"
   ]
  },
  {
   "cell_type": "code",
   "execution_count": 6,
   "metadata": {
    "scrolled": false
   },
   "outputs": [
    {
     "name": "stderr",
     "output_type": "stream",
     "text": [
      "/Users/curiosity/anaconda3/lib/python3.8/site-packages/numpy/core/_asarray.py:83: VisibleDeprecationWarning: Creating an ndarray from ragged nested sequences (which is a list-or-tuple of lists-or-tuples-or ndarrays with different lengths or shapes) is deprecated. If you meant to do this, you must specify 'dtype=object' when creating the ndarray\n",
      "  return array(a, dtype, copy=False, order=order)\n"
     ]
    },
    {
     "name": "stdout",
     "output_type": "stream",
     "text": [
      "                 column experiment_mode  mean  median   std\n",
      "0  count_filter_changed            CTRL  0.65       0  1.25\n",
      "1  count_filter_changed              RT  0.96       0  1.75\n",
      "2  count_filter_changed           RTSUM  1.12       0  2.07\n",
      "3  count_filter_changed             SUM  0.95       0  1.85\n",
      "P Value:  0.2334\n"
     ]
    },
    {
     "data": {
      "image/png": "[encoded data removed]",
      "text/plain": [
       "<Figure size 360x1440 with 8 Axes>"
      ]
     },
     "metadata": {
      "needs_background": "light"
     },
     "output_type": "display_data"
    }
   ],
   "source": [
    "columns = [\"count_filter_changed\"]\n",
    "by = [\"experiment_mode\"]\n",
    "filename=\"charts/basic_eda/politics/count_filter_changed.pdf\"\n",
    "custom_tick_boxplot(df=df_attribute_stats, \n",
    "                      by=by,\n",
    "                      columns=columns, \n",
    "                      filename=filename)"
   ]
  },
  {
   "cell_type": "markdown",
   "metadata": {},
   "source": [
    "### Which Condition _changed_ more attributes as  Encodings?"
   ]
  },
  {
   "cell_type": "code",
   "execution_count": 7,
   "metadata": {},
   "outputs": [
    {
     "name": "stderr",
     "output_type": "stream",
     "text": [
      "/Users/curiosity/anaconda3/lib/python3.8/site-packages/numpy/core/_asarray.py:83: VisibleDeprecationWarning: Creating an ndarray from ragged nested sequences (which is a list-or-tuple of lists-or-tuples-or ndarrays with different lengths or shapes) is deprecated. If you meant to do this, you must specify 'dtype=object' when creating the ndarray\n",
      "  return array(a, dtype, copy=False, order=order)\n"
     ]
    },
    {
     "name": "stdout",
     "output_type": "stream",
     "text": [
      "                 column experiment_mode  mean  median   std\n",
      "0  count_encode_changed            CTRL  0.52       0  0.75\n",
      "1  count_encode_changed              RT  0.64       0  1.05\n",
      "2  count_encode_changed           RTSUM  0.81       0  1.11\n",
      "3  count_encode_changed             SUM  0.56       0  0.84\n",
      "P Value:  0.1152\n"
     ]
    },
    {
     "data": {
      "image/png": "[encoded data removed]",
      "text/plain": [
       "<Figure size 360x1440 with 8 Axes>"
      ]
     },
     "metadata": {
      "needs_background": "light"
     },
     "output_type": "display_data"
    }
   ],
   "source": [
    "columns = [\"count_encode_changed\"]\n",
    "by = [\"experiment_mode\"]\n",
    "filename=\"charts/basic_eda/politics/count_encode_changed.pdf\"\n",
    "custom_tick_boxplot(df=df_attribute_stats, \n",
    "                      by=by,\n",
    "                      columns=columns, \n",
    "                      filename=filename)"
   ]
  },
  {
   "cell_type": "markdown",
   "metadata": {},
   "source": [
    "### Which Condition _changed_ more attributes as  Encodings + Filter + Distribution Card?"
   ]
  },
  {
   "cell_type": "code",
   "execution_count": 8,
   "metadata": {},
   "outputs": [
    {
     "name": "stderr",
     "output_type": "stream",
     "text": [
      "/Users/curiosity/anaconda3/lib/python3.8/site-packages/numpy/core/_asarray.py:83: VisibleDeprecationWarning: Creating an ndarray from ragged nested sequences (which is a list-or-tuple of lists-or-tuples-or ndarrays with different lengths or shapes) is deprecated. If you meant to do this, you must specify 'dtype=object' when creating the ndarray\n",
      "  return array(a, dtype, copy=False, order=order)\n"
     ]
    },
    {
     "name": "stdout",
     "output_type": "stream",
     "text": [
      "                         column experiment_mode  mean  median   std\n",
      "0  total_attribute_interactions            CTRL  1.17       1  1.32\n",
      "1  total_attribute_interactions              RT  1.83       1  1.94\n",
      "2  total_attribute_interactions           RTSUM  2.07       1  2.32\n",
      "3  total_attribute_interactions             SUM  1.52       1  2.07\n",
      "P Value:  0.0037\n"
     ]
    },
    {
     "data": {
      "image/png": "[encoded data removed]",
      "text/plain": [
       "<Figure size 360x1440 with 8 Axes>"
      ]
     },
     "metadata": {
      "needs_background": "light"
     },
     "output_type": "display_data"
    }
   ],
   "source": [
    "columns = [\"total_attribute_interactions\"]\n",
    "by = [\"experiment_mode\"]\n",
    "filename=\"charts/basic_eda/politics/total_attribute_interactions.pdf\"\n",
    "custom_tick_boxplot(df=df_attribute_stats, \n",
    "                      by=by,\n",
    "                      columns=columns, \n",
    "                      filename=filename)"
   ]
  },
  {
   "cell_type": "markdown",
   "metadata": {},
   "source": [
    "### Which Condition interacted with more _Unique_ Attributes overall?"
   ]
  },
  {
   "cell_type": "code",
   "execution_count": 9,
   "metadata": {},
   "outputs": [
    {
     "name": "stderr",
     "output_type": "stream",
     "text": [
      "/Users/curiosity/anaconda3/lib/python3.8/site-packages/numpy/core/_asarray.py:83: VisibleDeprecationWarning: Creating an ndarray from ragged nested sequences (which is a list-or-tuple of lists-or-tuples-or ndarrays with different lengths or shapes) is deprecated. If you meant to do this, you must specify 'dtype=object' when creating the ndarray\n",
      "  return array(a, dtype, copy=False, order=order)\n"
     ]
    },
    {
     "name": "stdout",
     "output_type": "stream",
     "text": [
      "                          column experiment_mode  mean  median   std\n",
      "0  unique_attribute_interactions            CTRL  5.62     5.0  1.94\n",
      "1  unique_attribute_interactions              RT  6.45     6.0  2.58\n",
      "2  unique_attribute_interactions           RTSUM  6.08     6.0  2.19\n",
      "3  unique_attribute_interactions             SUM  5.50     5.5  2.38\n",
      "P Value:  0.7155\n"
     ]
    },
    {
     "data": {
      "image/png": "[encoded data removed]",
      "text/plain": [
       "<Figure size 360x1440 with 8 Axes>"
      ]
     },
     "metadata": {
      "needs_background": "light"
     },
     "output_type": "display_data"
    }
   ],
   "source": [
    "groupby_cols = [\"experiment_mode\", \"pid\"]\n",
    "subset_cols = groupby_cols + [\"attribute\"]\n",
    "df_unique_interacted_attributes = df_attribute_stats[df_attribute_stats[\"total_attribute_interactions\"] > 0][subset_cols].groupby(groupby_cols).agg(unique_attribute_interactions=(\"attribute\",\"count\"))\n",
    "df_unique_interacted_attributes.reset_index(inplace=True)\n",
    "\n",
    "columns = [\"unique_attribute_interactions\"]\n",
    "by = [\"experiment_mode\"]\n",
    "filename=\"charts/basic_eda/politics/unique_attribute_interactions.pdf\"\n",
    "custom_tick_boxplot(df=df_unique_interacted_attributes, \n",
    "                      by=by,\n",
    "                      columns=columns, \n",
    "                      filename=filename)"
   ]
  },
  {
   "cell_type": "markdown",
   "metadata": {},
   "source": [
    "## Summary plots - DataPoints"
   ]
  },
  {
   "cell_type": "code",
   "execution_count": 10,
   "metadata": {},
   "outputs": [],
   "source": [
    "df_datapoint_stats = pd.DataFrame()\n",
    "for experiment_mode in experiment_modes:\n",
    "    inputfile_datapoint_stats = f\"{experiment_mode}/all_{experiment_mode}_politics_datapoint_stats.csv\"\n",
    "    _df = pd.read_csv(inputfile_datapoint_stats, sep=\",\")\n",
    "    _df[\"experiment_mode\"] = experiment_mode\n",
    "    df_datapoint_stats = df_datapoint_stats.append(_df)\n",
    "    \n",
    "    \n",
    "df_datapoint_stats[\"count_hovers\"] = df_datapoint_stats[\"count_vis_hovers\"] + df_datapoint_stats[\"count_list_hovers\"]\n",
    "df_datapoint_stats[\"count_click_add\"] = df_datapoint_stats[\"count_vis_click_add\"] + df_datapoint_stats[\"count_card_click_add\"]\n",
    "df_datapoint_stats[\"count_click_remove\"] = df_datapoint_stats[\"count_list_click_remove\"] + df_datapoint_stats[\"count_card_click_remove\"]"
   ]
  },
  {
   "cell_type": "code",
   "execution_count": 11,
   "metadata": {},
   "outputs": [
    {
     "data": {
      "text/plain": [
       "Index(['pid', 'id', 'count_vis_hovers', 'count_vis_click_add',\n",
       "       'count_list_hovers', 'count_list_click_remove', 'count_card_click_add',\n",
       "       'count_card_click_remove', 'experiment_mode', 'count_hovers',\n",
       "       'count_click_add', 'count_click_remove'],\n",
       "      dtype='object')"
      ]
     },
     "execution_count": 11,
     "metadata": {},
     "output_type": "execute_result"
    }
   ],
   "source": [
    "df_datapoint_stats.columns"
   ]
  },
  {
   "cell_type": "code",
   "execution_count": 12,
   "metadata": {},
   "outputs": [
    {
     "data": {
      "text/html": [
       "<div>\n",
       "<style scoped>\n",
       "    .dataframe tbody tr th:only-of-type {\n",
       "        vertical-align: middle;\n",
       "    }\n",
       "\n",
       "    .dataframe tbody tr th {\n",
       "        vertical-align: top;\n",
       "    }\n",
       "\n",
       "    .dataframe thead th {\n",
       "        text-align: right;\n",
       "    }\n",
       "</style>\n",
       "<table border=\"1\" class=\"dataframe\">\n",
       "  <thead>\n",
       "    <tr style=\"text-align: right;\">\n",
       "      <th></th>\n",
       "      <th>experiment_mode</th>\n",
       "      <th>pid</th>\n",
       "      <th>count_hovers</th>\n",
       "      <th>count_click_add</th>\n",
       "      <th>count_click_remove</th>\n",
       "      <th>count_vis_hovers</th>\n",
       "      <th>count_vis_click_add</th>\n",
       "      <th>count_list_hovers</th>\n",
       "      <th>count_list_click_remove</th>\n",
       "      <th>count_card_click_add</th>\n",
       "      <th>count_card_click_remove</th>\n",
       "    </tr>\n",
       "  </thead>\n",
       "  <tbody>\n",
       "    <tr>\n",
       "      <th>0</th>\n",
       "      <td>CTRL</td>\n",
       "      <td>0Odg8Ya9cQZM</td>\n",
       "      <td>21</td>\n",
       "      <td>10</td>\n",
       "      <td>0</td>\n",
       "      <td>21</td>\n",
       "      <td>10</td>\n",
       "      <td>0</td>\n",
       "      <td>0</td>\n",
       "      <td>0</td>\n",
       "      <td>0</td>\n",
       "    </tr>\n",
       "  </tbody>\n",
       "</table>\n",
       "</div>"
      ],
      "text/plain": [
       "  experiment_mode           pid  count_hovers  count_click_add  \\\n",
       "0            CTRL  0Odg8Ya9cQZM            21               10   \n",
       "\n",
       "   count_click_remove  count_vis_hovers  count_vis_click_add  \\\n",
       "0                   0                21                   10   \n",
       "\n",
       "   count_list_hovers  count_list_click_remove  count_card_click_add  \\\n",
       "0                  0                        0                     0   \n",
       "\n",
       "   count_card_click_remove  \n",
       "0                        0  "
      ]
     },
     "execution_count": 12,
     "metadata": {},
     "output_type": "execute_result"
    }
   ],
   "source": [
    "df_datapoint_stats_agg = df_datapoint_stats.groupby([\"experiment_mode\",\"pid\"]).agg(\n",
    "    count_hovers=(\"count_hovers\", \"sum\"),\n",
    "    count_click_add=(\"count_click_add\", \"sum\"),\n",
    "    count_click_remove=(\"count_click_remove\", \"sum\"),\n",
    "    count_vis_hovers=(\"count_vis_hovers\",\"sum\"),\n",
    "    count_vis_click_add=(\"count_vis_click_add\",\"sum\"),\n",
    "    count_list_hovers=(\"count_list_hovers\",\"sum\"),\n",
    "    count_list_click_remove=(\"count_list_click_remove\",\"sum\"),\n",
    "    count_card_click_add=(\"count_card_click_add\", \"sum\"),\n",
    "    count_card_click_remove=(\"count_card_click_remove\", \"sum\")\n",
    ")\n",
    "df_datapoint_stats_agg.reset_index(inplace=True)\n",
    "df_datapoint_stats_agg.head(1)"
   ]
  },
  {
   "cell_type": "markdown",
   "metadata": {},
   "source": [
    "### How many Total DataPoints Did the Participants Interact With?"
   ]
  },
  {
   "cell_type": "code",
   "execution_count": 13,
   "metadata": {},
   "outputs": [
    {
     "data": {
      "text/html": [
       "<div>\n",
       "<style scoped>\n",
       "    .dataframe tbody tr th:only-of-type {\n",
       "        vertical-align: middle;\n",
       "    }\n",
       "\n",
       "    .dataframe tbody tr th {\n",
       "        vertical-align: top;\n",
       "    }\n",
       "\n",
       "    .dataframe thead th {\n",
       "        text-align: right;\n",
       "    }\n",
       "</style>\n",
       "<table border=\"1\" class=\"dataframe\">\n",
       "  <thead>\n",
       "    <tr style=\"text-align: right;\">\n",
       "      <th></th>\n",
       "      <th>experiment_mode</th>\n",
       "      <th>pid</th>\n",
       "      <th>total_no_of_interacted_datapoints</th>\n",
       "    </tr>\n",
       "  </thead>\n",
       "  <tbody>\n",
       "    <tr>\n",
       "      <th>0</th>\n",
       "      <td>CTRL</td>\n",
       "      <td>0Odg8Ya9cQZM</td>\n",
       "      <td>21</td>\n",
       "    </tr>\n",
       "  </tbody>\n",
       "</table>\n",
       "</div>"
      ],
      "text/plain": [
       "  experiment_mode           pid  total_no_of_interacted_datapoints\n",
       "0            CTRL  0Odg8Ya9cQZM                                 21"
      ]
     },
     "execution_count": 13,
     "metadata": {},
     "output_type": "execute_result"
    }
   ],
   "source": [
    "groupby_cols = [\"experiment_mode\", \"pid\"]\n",
    "subset_cols = groupby_cols + [\"count_hovers\"]\n",
    "df_total_interacted_datapoints = df_datapoint_stats_agg[df_datapoint_stats_agg[\"count_hovers\"] > 0][subset_cols].groupby(groupby_cols).agg(total_no_of_interacted_datapoints=(\"count_hovers\",\"sum\"))\n",
    "df_total_interacted_datapoints.reset_index(inplace=True)\n",
    "df_total_interacted_datapoints.head(1)"
   ]
  },
  {
   "cell_type": "markdown",
   "metadata": {},
   "source": [
    "### How many Unique DataPoints Did the Participants Interact With?"
   ]
  },
  {
   "cell_type": "code",
   "execution_count": 14,
   "metadata": {
    "scrolled": false
   },
   "outputs": [
    {
     "data": {
      "text/html": [
       "<div>\n",
       "<style scoped>\n",
       "    .dataframe tbody tr th:only-of-type {\n",
       "        vertical-align: middle;\n",
       "    }\n",
       "\n",
       "    .dataframe tbody tr th {\n",
       "        vertical-align: top;\n",
       "    }\n",
       "\n",
       "    .dataframe thead th {\n",
       "        text-align: right;\n",
       "    }\n",
       "</style>\n",
       "<table border=\"1\" class=\"dataframe\">\n",
       "  <thead>\n",
       "    <tr style=\"text-align: right;\">\n",
       "      <th></th>\n",
       "      <th>experiment_mode</th>\n",
       "      <th>pid</th>\n",
       "      <th>no_of_unique_interacted_datapoints</th>\n",
       "    </tr>\n",
       "  </thead>\n",
       "  <tbody>\n",
       "    <tr>\n",
       "      <th>0</th>\n",
       "      <td>CTRL</td>\n",
       "      <td>0Odg8Ya9cQZM</td>\n",
       "      <td>14</td>\n",
       "    </tr>\n",
       "  </tbody>\n",
       "</table>\n",
       "</div>"
      ],
      "text/plain": [
       "  experiment_mode           pid  no_of_unique_interacted_datapoints\n",
       "0            CTRL  0Odg8Ya9cQZM                                  14"
      ]
     },
     "execution_count": 14,
     "metadata": {},
     "output_type": "execute_result"
    }
   ],
   "source": [
    "groupby_cols = [\"experiment_mode\", \"pid\"]\n",
    "subset_cols = groupby_cols + [\"id\"]\n",
    "df_unique_interacted_datapoints = df_datapoint_stats[df_datapoint_stats[\"count_hovers\"] > 0][subset_cols].groupby(groupby_cols).agg(no_of_unique_interacted_datapoints=(\"id\",\"count\"))\n",
    "df_unique_interacted_datapoints.reset_index(inplace=True)\n",
    "df_unique_interacted_datapoints.head(1)"
   ]
  },
  {
   "cell_type": "markdown",
   "metadata": {},
   "source": [
    "### How many Datapoints were Hovered across Conditions?"
   ]
  },
  {
   "cell_type": "code",
   "execution_count": 15,
   "metadata": {},
   "outputs": [
    {
     "name": "stderr",
     "output_type": "stream",
     "text": [
      "/Users/curiosity/anaconda3/lib/python3.8/site-packages/numpy/core/_asarray.py:83: VisibleDeprecationWarning: Creating an ndarray from ragged nested sequences (which is a list-or-tuple of lists-or-tuples-or ndarrays with different lengths or shapes) is deprecated. If you meant to do this, you must specify 'dtype=object' when creating the ndarray\n",
      "  return array(a, dtype, copy=False, order=order)\n"
     ]
    },
    {
     "name": "stdout",
     "output_type": "stream",
     "text": [
      "         column experiment_mode   mean  median    std\n",
      "0  count_hovers            CTRL  31.46    25.0  21.44\n",
      "1  count_hovers              RT  67.18    66.0  38.11\n",
      "2  count_hovers           RTSUM  96.17    84.0  78.13\n",
      "3  count_hovers             SUM  60.36    49.5  43.85\n",
      "P Value:  0.0201\n"
     ]
    },
    {
     "data": {
      "image/png": "[encoded data removed]",
      "text/plain": [
       "<Figure size 360x1440 with 8 Axes>"
      ]
     },
     "metadata": {
      "needs_background": "light"
     },
     "output_type": "display_data"
    }
   ],
   "source": [
    "columns = [\"count_hovers\"]\n",
    "by = [\"experiment_mode\"]\n",
    "filename=\"charts/basic_eda/politics/count_hovers.pdf\"\n",
    "custom_tick_boxplot(df=df_datapoint_stats_agg, \n",
    "                      by=by,\n",
    "                      columns=columns, \n",
    "                      filename=filename)"
   ]
  },
  {
   "cell_type": "markdown",
   "metadata": {},
   "source": [
    "### How many Datapoints were Clicked+Added across Conditions?"
   ]
  },
  {
   "cell_type": "code",
   "execution_count": 16,
   "metadata": {},
   "outputs": [
    {
     "name": "stderr",
     "output_type": "stream",
     "text": [
      "/Users/curiosity/anaconda3/lib/python3.8/site-packages/numpy/core/_asarray.py:83: VisibleDeprecationWarning: Creating an ndarray from ragged nested sequences (which is a list-or-tuple of lists-or-tuples-or ndarrays with different lengths or shapes) is deprecated. If you meant to do this, you must specify 'dtype=object' when creating the ndarray\n",
      "  return array(a, dtype, copy=False, order=order)\n"
     ]
    },
    {
     "name": "stdout",
     "output_type": "stream",
     "text": [
      "            column experiment_mode   mean  median   std\n",
      "0  count_click_add            CTRL  12.77      11  4.40\n",
      "1  count_click_add              RT  12.82      12  3.66\n",
      "2  count_click_add           RTSUM  13.67      12  5.52\n",
      "3  count_click_add             SUM  15.21      14  4.26\n",
      "P Value:  0.474\n"
     ]
    },
    {
     "data": {
      "image/png": "[encoded data removed]",
      "text/plain": [
       "<Figure size 360x1440 with 8 Axes>"
      ]
     },
     "metadata": {
      "needs_background": "light"
     },
     "output_type": "display_data"
    }
   ],
   "source": [
    "columns = [\"count_click_add\"]\n",
    "by = [\"experiment_mode\"]\n",
    "filename=\"charts/basic_eda/politics/count_click_add.pdf\"\n",
    "custom_tick_boxplot(df=df_datapoint_stats_agg, \n",
    "                      by=by,\n",
    "                      columns=columns, \n",
    "                      filename=filename)"
   ]
  },
  {
   "cell_type": "markdown",
   "metadata": {},
   "source": [
    "### How many Datapoints were Clicked+Removed across Conditions?"
   ]
  },
  {
   "cell_type": "code",
   "execution_count": 17,
   "metadata": {},
   "outputs": [
    {
     "name": "stderr",
     "output_type": "stream",
     "text": [
      "/Users/curiosity/anaconda3/lib/python3.8/site-packages/numpy/core/_asarray.py:83: VisibleDeprecationWarning: Creating an ndarray from ragged nested sequences (which is a list-or-tuple of lists-or-tuples-or ndarrays with different lengths or shapes) is deprecated. If you meant to do this, you must specify 'dtype=object' when creating the ndarray\n",
      "  return array(a, dtype, copy=False, order=order)\n"
     ]
    },
    {
     "name": "stdout",
     "output_type": "stream",
     "text": [
      "               column experiment_mode  mean  median   std\n",
      "0  count_click_remove            CTRL  1.85       1  3.24\n",
      "1  count_click_remove              RT  1.55       1  2.07\n",
      "2  count_click_remove           RTSUM  3.33       2  5.52\n",
      "3  count_click_remove             SUM  3.57       2  4.03\n",
      "P Value:  0.4776\n"
     ]
    },
    {
     "data": {
      "image/png": "[encoded data removed]",
      "text/plain": [
       "<Figure size 360x1440 with 8 Axes>"
      ]
     },
     "metadata": {
      "needs_background": "light"
     },
     "output_type": "display_data"
    }
   ],
   "source": [
    "columns = [\"count_click_remove\"]\n",
    "by = [\"experiment_mode\"]\n",
    "filename=\"charts/basic_eda/politics/count_click_remove.pdf\"\n",
    "custom_tick_boxplot(df=df_datapoint_stats_agg, \n",
    "                      by=by,\n",
    "                      columns=columns, \n",
    "                      filename=filename)"
   ]
  },
  {
   "cell_type": "markdown",
   "metadata": {},
   "source": [
    "### How many Datapoints were Clicked (Added + Removed) across Conditions?"
   ]
  },
  {
   "cell_type": "code",
   "execution_count": 18,
   "metadata": {},
   "outputs": [
    {
     "name": "stderr",
     "output_type": "stream",
     "text": [
      "/Users/curiosity/anaconda3/lib/python3.8/site-packages/numpy/core/_asarray.py:83: VisibleDeprecationWarning: Creating an ndarray from ragged nested sequences (which is a list-or-tuple of lists-or-tuples-or ndarrays with different lengths or shapes) is deprecated. If you meant to do this, you must specify 'dtype=object' when creating the ndarray\n",
      "  return array(a, dtype, copy=False, order=order)\n"
     ]
    },
    {
     "name": "stdout",
     "output_type": "stream",
     "text": [
      "        column experiment_mode   mean  median    std\n",
      "0  count_click            CTRL  14.62    12.0   7.58\n",
      "1  count_click              RT  14.36    13.0   4.74\n",
      "2  count_click           RTSUM  17.00    14.0  11.01\n",
      "3  count_click             SUM  18.79    16.5   8.17\n",
      "P Value:  0.4794\n"
     ]
    },
    {
     "data": {
      "image/png": "[encoded data removed]",
      "text/plain": [
       "<Figure size 360x1440 with 8 Axes>"
      ]
     },
     "metadata": {
      "needs_background": "light"
     },
     "output_type": "display_data"
    }
   ],
   "source": [
    "df_datapoint_stats_agg[\"count_click\"] = df_datapoint_stats_agg[\"count_click_add\"] + df_datapoint_stats_agg[\"count_click_remove\"]\n",
    "columns = [\"count_click\"]\n",
    "by = [\"experiment_mode\"]\n",
    "filename=\"charts/basic_eda/politics/count_click.pdf\"\n",
    "custom_tick_boxplot(df=df_datapoint_stats_agg, \n",
    "                      by=by,\n",
    "                      columns=columns, \n",
    "                      filename=filename)"
   ]
  },
  {
   "cell_type": "markdown",
   "metadata": {},
   "source": [
    "### How many Unique Datapoints interacted across Conditions?"
   ]
  },
  {
   "cell_type": "code",
   "execution_count": 19,
   "metadata": {},
   "outputs": [
    {
     "name": "stderr",
     "output_type": "stream",
     "text": [
      "/Users/curiosity/anaconda3/lib/python3.8/site-packages/numpy/core/_asarray.py:83: VisibleDeprecationWarning: Creating an ndarray from ragged nested sequences (which is a list-or-tuple of lists-or-tuples-or ndarrays with different lengths or shapes) is deprecated. If you meant to do this, you must specify 'dtype=object' when creating the ndarray\n",
      "  return array(a, dtype, copy=False, order=order)\n"
     ]
    },
    {
     "name": "stdout",
     "output_type": "stream",
     "text": [
      "                               column experiment_mode   mean  median    std\n",
      "0  no_of_unique_interacted_datapoints            CTRL  16.62    13.0   7.23\n",
      "1  no_of_unique_interacted_datapoints              RT  41.00    42.0  24.75\n",
      "2  no_of_unique_interacted_datapoints           RTSUM  47.25    34.5  34.49\n",
      "3  no_of_unique_interacted_datapoints             SUM  25.71    24.5  12.50\n",
      "P Value:  0.0038\n"
     ]
    },
    {
     "data": {
      "image/png": "[encoded data removed]",
      "text/plain": [
       "<Figure size 360x1440 with 8 Axes>"
      ]
     },
     "metadata": {
      "needs_background": "light"
     },
     "output_type": "display_data"
    }
   ],
   "source": [
    "df_total_vs_unique_datapoints = df_unique_interacted_datapoints.merge(df_total_interacted_datapoints, on=[\"experiment_mode\", \"pid\"], how=\"inner\")\n",
    "df_total_vs_unique_datapoints[\"ratio_total_unique_interacted_datapoints\"] = df_total_vs_unique_datapoints[\"total_no_of_interacted_datapoints\"] / df_total_vs_unique_datapoints[\"no_of_unique_interacted_datapoints\"]\n",
    "df_total_vs_unique_datapoints.head(1)\n",
    "\n",
    "columns = [\"no_of_unique_interacted_datapoints\"]\n",
    "by = [\"experiment_mode\"]\n",
    "filename=\"charts/basic_eda/politics/unique-datapoints-across-condition.pdf\"\n",
    "custom_tick_boxplot(df=df_total_vs_unique_datapoints, \n",
    "                      by=by,\n",
    "                      columns=columns, \n",
    "                      filename=filename)"
   ]
  },
  {
   "cell_type": "markdown",
   "metadata": {},
   "source": [
    "# Movies"
   ]
  },
  {
   "cell_type": "markdown",
   "metadata": {},
   "source": [
    "## Summary plots - Attribute"
   ]
  },
  {
   "cell_type": "markdown",
   "metadata": {},
   "source": [
    "#### Create a combined DF with both Control and Awareness"
   ]
  },
  {
   "cell_type": "code",
   "execution_count": 20,
   "metadata": {},
   "outputs": [],
   "source": [
    "df_attribute_stats = pd.DataFrame()\n",
    "for experiment_mode in experiment_modes:\n",
    "    inputfile_attribute_stats = f\"{experiment_mode}/all_{experiment_mode}_movies_attr_stats.csv\"\n",
    "    _df = pd.read_csv(inputfile_attribute_stats, sep=\",\")\n",
    "    _df[\"experiment_mode\"] = experiment_mode\n",
    "    df_attribute_stats = df_attribute_stats.append(_df)\n",
    "    \n",
    "df_attribute_stats[\"total_attribute_interactions\"] = df_attribute_stats[\"count_encode_changed\"] + df_attribute_stats[\"count_filter_changed\"] + df_attribute_stats[\"count_dist_card_click\"]"
   ]
  },
  {
   "cell_type": "markdown",
   "metadata": {},
   "source": [
    "### Which Condition clicked more on the Distribution Panel Cards?"
   ]
  },
  {
   "cell_type": "code",
   "execution_count": 21,
   "metadata": {},
   "outputs": [
    {
     "name": "stderr",
     "output_type": "stream",
     "text": [
      "/Users/curiosity/anaconda3/lib/python3.8/site-packages/numpy/core/_asarray.py:83: VisibleDeprecationWarning: Creating an ndarray from ragged nested sequences (which is a list-or-tuple of lists-or-tuples-or ndarrays with different lengths or shapes) is deprecated. If you meant to do this, you must specify 'dtype=object' when creating the ndarray\n",
      "  return array(a, dtype, copy=False, order=order)\n"
     ]
    },
    {
     "name": "stdout",
     "output_type": "stream",
     "text": [
      "                  column experiment_mode  mean  median   std\n",
      "0  count_dist_card_click              RT  0.35       0  0.73\n",
      "1  count_dist_card_click           RTSUM  0.23       0  0.59\n",
      "P Value:  0.1866\n"
     ]
    },
    {
     "data": {
      "image/png": "[encoded data removed]",
      "text/plain": [
       "<Figure size 360x1440 with 8 Axes>"
      ]
     },
     "metadata": {
      "needs_background": "light"
     },
     "output_type": "display_data"
    }
   ],
   "source": [
    "df_attribute_stats_shortened = df_attribute_stats[df_attribute_stats[\"experiment_mode\"].isin([\"RT\", \"RTSUM\"])]\n",
    "columns = [\"count_dist_card_click\"]\n",
    "by = [\"experiment_mode\"]\n",
    "filename=\"charts/basic_eda/movies/count_distribution_card_changed.pdf\"\n",
    "custom_tick_boxplot(df=df_attribute_stats_shortened, \n",
    "                      by=by,\n",
    "                      columns=columns, \n",
    "                      filename=filename, no_of_groups=2)"
   ]
  },
  {
   "cell_type": "markdown",
   "metadata": {},
   "source": [
    "### Which Condition _changed_ more attribute Filters?"
   ]
  },
  {
   "cell_type": "code",
   "execution_count": 22,
   "metadata": {
    "scrolled": true
   },
   "outputs": [
    {
     "name": "stderr",
     "output_type": "stream",
     "text": [
      "/Users/curiosity/anaconda3/lib/python3.8/site-packages/numpy/core/_asarray.py:83: VisibleDeprecationWarning: Creating an ndarray from ragged nested sequences (which is a list-or-tuple of lists-or-tuples-or ndarrays with different lengths or shapes) is deprecated. If you meant to do this, you must specify 'dtype=object' when creating the ndarray\n",
      "  return array(a, dtype, copy=False, order=order)\n"
     ]
    },
    {
     "name": "stdout",
     "output_type": "stream",
     "text": [
      "                 column experiment_mode  mean  median   std\n",
      "0  count_filter_changed            CTRL  1.14       0  2.34\n",
      "1  count_filter_changed              RT  0.92       0  2.63\n",
      "2  count_filter_changed           RTSUM  2.08       0  5.54\n",
      "3  count_filter_changed             SUM  1.29       0  2.46\n",
      "P Value:  0.0785\n"
     ]
    },
    {
     "data": {
      "image/png": "[encoded data removed]",
      "text/plain": [
       "<Figure size 360x1440 with 8 Axes>"
      ]
     },
     "metadata": {
      "needs_background": "light"
     },
     "output_type": "display_data"
    }
   ],
   "source": [
    "columns = [\"count_filter_changed\"]\n",
    "by = [\"experiment_mode\"]\n",
    "filename=\"charts/basic_eda/movies/count_filter_changed.pdf\"\n",
    "custom_tick_boxplot(df=df_attribute_stats, \n",
    "                      by=by,\n",
    "                      columns=columns, \n",
    "                      filename=filename)"
   ]
  },
  {
   "cell_type": "markdown",
   "metadata": {},
   "source": [
    "### Which Condition _changed_ more attributes as  Encodings?"
   ]
  },
  {
   "cell_type": "code",
   "execution_count": 23,
   "metadata": {},
   "outputs": [
    {
     "name": "stderr",
     "output_type": "stream",
     "text": [
      "/Users/curiosity/anaconda3/lib/python3.8/site-packages/numpy/core/_asarray.py:83: VisibleDeprecationWarning: Creating an ndarray from ragged nested sequences (which is a list-or-tuple of lists-or-tuples-or ndarrays with different lengths or shapes) is deprecated. If you meant to do this, you must specify 'dtype=object' when creating the ndarray\n",
      "  return array(a, dtype, copy=False, order=order)\n"
     ]
    },
    {
     "name": "stdout",
     "output_type": "stream",
     "text": [
      "                 column experiment_mode  mean  median   std\n",
      "0  count_encode_changed            CTRL  0.74       0  1.41\n",
      "1  count_encode_changed              RT  0.49       0  0.91\n",
      "2  count_encode_changed           RTSUM  0.80       0  1.58\n",
      "3  count_encode_changed             SUM  1.12       0  2.50\n",
      "P Value:  0.0628\n"
     ]
    },
    {
     "data": {
      "image/png": "[encoded data removed]",
      "text/plain": [
       "<Figure size 360x1440 with 8 Axes>"
      ]
     },
     "metadata": {
      "needs_background": "light"
     },
     "output_type": "display_data"
    }
   ],
   "source": [
    "columns = [\"count_encode_changed\"]\n",
    "by = [\"experiment_mode\"]\n",
    "filename=\"charts/basic_eda/movies/count_encode_changed.pdf\"\n",
    "custom_tick_boxplot(df=df_attribute_stats, \n",
    "                      by=by,\n",
    "                      columns=columns, \n",
    "                      filename=filename)"
   ]
  },
  {
   "cell_type": "markdown",
   "metadata": {},
   "source": [
    "### Which Condition _changed_ more attributes as  Encodings + Filters + Distribution Card Clicks?"
   ]
  },
  {
   "cell_type": "code",
   "execution_count": 24,
   "metadata": {},
   "outputs": [
    {
     "name": "stderr",
     "output_type": "stream",
     "text": [
      "/Users/curiosity/anaconda3/lib/python3.8/site-packages/numpy/core/_asarray.py:83: VisibleDeprecationWarning: Creating an ndarray from ragged nested sequences (which is a list-or-tuple of lists-or-tuples-or ndarrays with different lengths or shapes) is deprecated. If you meant to do this, you must specify 'dtype=object' when creating the ndarray\n",
      "  return array(a, dtype, copy=False, order=order)\n"
     ]
    },
    {
     "name": "stdout",
     "output_type": "stream",
     "text": [
      "                         column experiment_mode  mean  median   std\n",
      "0  total_attribute_interactions            CTRL  1.88       1  2.64\n",
      "1  total_attribute_interactions              RT  1.77       1  2.86\n",
      "2  total_attribute_interactions           RTSUM  3.11       1  5.63\n",
      "3  total_attribute_interactions             SUM  2.41       1  3.23\n",
      "P Value:  0.0366\n"
     ]
    },
    {
     "data": {
      "image/png": "[encoded data removed]",
      "text/plain": [
       "<Figure size 360x1440 with 8 Axes>"
      ]
     },
     "metadata": {
      "needs_background": "light"
     },
     "output_type": "display_data"
    }
   ],
   "source": [
    "columns = [\"total_attribute_interactions\"]\n",
    "by = [\"experiment_mode\"]\n",
    "filename=\"charts/basic_eda/movies/total_attribute_interactions.pdf\"\n",
    "custom_tick_boxplot(df=df_attribute_stats, \n",
    "                      by=by,\n",
    "                      columns=columns, \n",
    "                      filename=filename)"
   ]
  },
  {
   "cell_type": "markdown",
   "metadata": {},
   "source": [
    "### Which Condition interacted with more _Unique_ Attributes overall?"
   ]
  },
  {
   "cell_type": "code",
   "execution_count": 25,
   "metadata": {},
   "outputs": [
    {
     "name": "stderr",
     "output_type": "stream",
     "text": [
      "/Users/curiosity/anaconda3/lib/python3.8/site-packages/numpy/core/_asarray.py:83: VisibleDeprecationWarning: Creating an ndarray from ragged nested sequences (which is a list-or-tuple of lists-or-tuples-or ndarrays with different lengths or shapes) is deprecated. If you meant to do this, you must specify 'dtype=object' when creating the ndarray\n",
      "  return array(a, dtype, copy=False, order=order)\n"
     ]
    },
    {
     "name": "stdout",
     "output_type": "stream",
     "text": [
      "                          column experiment_mode  mean  median   std\n",
      "0  unique_attribute_interactions            CTRL  5.08     5.0  2.22\n",
      "1  unique_attribute_interactions              RT  5.55     5.0  2.62\n",
      "2  unique_attribute_interactions           RTSUM  5.67     6.0  2.50\n",
      "3  unique_attribute_interactions             SUM  5.57     5.5  1.95\n",
      "P Value:  0.9182\n"
     ]
    },
    {
     "data": {
      "image/png": "[encoded data removed]",
      "text/plain": [
       "<Figure size 360x1440 with 8 Axes>"
      ]
     },
     "metadata": {
      "needs_background": "light"
     },
     "output_type": "display_data"
    }
   ],
   "source": [
    "groupby_cols = [\"experiment_mode\", \"pid\"]\n",
    "subset_cols = groupby_cols + [\"attribute\"]\n",
    "df_unique_interacted_attributes = df_attribute_stats[df_attribute_stats[\"total_attribute_interactions\"] > 0][subset_cols].groupby(groupby_cols).agg(unique_attribute_interactions=(\"attribute\",\"count\"))\n",
    "df_unique_interacted_attributes.reset_index(inplace=True)\n",
    "\n",
    "columns = [\"unique_attribute_interactions\"]\n",
    "by = [\"experiment_mode\"]\n",
    "filename=\"charts/basic_eda/movies/unique_attribute_interactions.pdf\"\n",
    "custom_tick_boxplot(df=df_unique_interacted_attributes, \n",
    "                      by=by,\n",
    "                      columns=columns, \n",
    "                      filename=filename)"
   ]
  },
  {
   "cell_type": "markdown",
   "metadata": {},
   "source": [
    "## Summary plots - DataPoints"
   ]
  },
  {
   "cell_type": "code",
   "execution_count": 26,
   "metadata": {},
   "outputs": [],
   "source": [
    "df_datapoint_stats = pd.DataFrame()\n",
    "for experiment_mode in experiment_modes:\n",
    "    inputfile_datapoint_stats = f\"{experiment_mode}/all_{experiment_mode}_movies_datapoint_stats.csv\"\n",
    "    _df = pd.read_csv(inputfile_datapoint_stats, sep=\",\")\n",
    "    _df[\"experiment_mode\"] = experiment_mode\n",
    "    df_datapoint_stats = df_datapoint_stats.append(_df)\n",
    "    \n",
    "    \n",
    "df_datapoint_stats[\"count_hovers\"] = df_datapoint_stats[\"count_vis_hovers\"] + df_datapoint_stats[\"count_list_hovers\"]\n",
    "df_datapoint_stats[\"count_click_add\"] = df_datapoint_stats[\"count_vis_click_add\"] + df_datapoint_stats[\"count_card_click_add\"]\n",
    "df_datapoint_stats[\"count_click_remove\"] = df_datapoint_stats[\"count_list_click_remove\"] + df_datapoint_stats[\"count_card_click_remove\"]"
   ]
  },
  {
   "cell_type": "code",
   "execution_count": 27,
   "metadata": {},
   "outputs": [
    {
     "data": {
      "text/plain": [
       "Index(['pid', 'id', 'count_vis_hovers', 'count_vis_click_add',\n",
       "       'count_list_hovers', 'count_list_click_remove', 'count_card_click_add',\n",
       "       'count_card_click_remove', 'experiment_mode', 'count_hovers',\n",
       "       'count_click_add', 'count_click_remove'],\n",
       "      dtype='object')"
      ]
     },
     "execution_count": 27,
     "metadata": {},
     "output_type": "execute_result"
    }
   ],
   "source": [
    "df_datapoint_stats.columns"
   ]
  },
  {
   "cell_type": "code",
   "execution_count": 28,
   "metadata": {},
   "outputs": [
    {
     "data": {
      "text/html": [
       "<div>\n",
       "<style scoped>\n",
       "    .dataframe tbody tr th:only-of-type {\n",
       "        vertical-align: middle;\n",
       "    }\n",
       "\n",
       "    .dataframe tbody tr th {\n",
       "        vertical-align: top;\n",
       "    }\n",
       "\n",
       "    .dataframe thead th {\n",
       "        text-align: right;\n",
       "    }\n",
       "</style>\n",
       "<table border=\"1\" class=\"dataframe\">\n",
       "  <thead>\n",
       "    <tr style=\"text-align: right;\">\n",
       "      <th></th>\n",
       "      <th>experiment_mode</th>\n",
       "      <th>pid</th>\n",
       "      <th>count_hovers</th>\n",
       "      <th>count_click_add</th>\n",
       "      <th>count_click_remove</th>\n",
       "      <th>count_vis_hovers</th>\n",
       "      <th>count_vis_click_add</th>\n",
       "      <th>count_list_hovers</th>\n",
       "      <th>count_list_click_remove</th>\n",
       "      <th>count_card_click_add</th>\n",
       "      <th>count_card_click_remove</th>\n",
       "    </tr>\n",
       "  </thead>\n",
       "  <tbody>\n",
       "    <tr>\n",
       "      <th>0</th>\n",
       "      <td>CTRL</td>\n",
       "      <td>0Odg8Ya9cQZM</td>\n",
       "      <td>12</td>\n",
       "      <td>10</td>\n",
       "      <td>0</td>\n",
       "      <td>12</td>\n",
       "      <td>10</td>\n",
       "      <td>0</td>\n",
       "      <td>0</td>\n",
       "      <td>0</td>\n",
       "      <td>0</td>\n",
       "    </tr>\n",
       "  </tbody>\n",
       "</table>\n",
       "</div>"
      ],
      "text/plain": [
       "  experiment_mode           pid  count_hovers  count_click_add  \\\n",
       "0            CTRL  0Odg8Ya9cQZM            12               10   \n",
       "\n",
       "   count_click_remove  count_vis_hovers  count_vis_click_add  \\\n",
       "0                   0                12                   10   \n",
       "\n",
       "   count_list_hovers  count_list_click_remove  count_card_click_add  \\\n",
       "0                  0                        0                     0   \n",
       "\n",
       "   count_card_click_remove  \n",
       "0                        0  "
      ]
     },
     "execution_count": 28,
     "metadata": {},
     "output_type": "execute_result"
    }
   ],
   "source": [
    "df_datapoint_stats_agg = df_datapoint_stats.groupby([\"experiment_mode\",\"pid\"]).agg(\n",
    "    count_hovers=(\"count_hovers\", \"sum\"),\n",
    "    count_click_add=(\"count_click_add\", \"sum\"),\n",
    "    count_click_remove=(\"count_click_remove\", \"sum\"),\n",
    "    count_vis_hovers=(\"count_vis_hovers\",\"sum\"),\n",
    "    count_vis_click_add=(\"count_vis_click_add\",\"sum\"),\n",
    "    count_list_hovers=(\"count_list_hovers\",\"sum\"),\n",
    "    count_list_click_remove=(\"count_list_click_remove\",\"sum\"),\n",
    "    count_card_click_add=(\"count_card_click_add\", \"sum\"),\n",
    "    count_card_click_remove=(\"count_card_click_remove\", \"sum\")\n",
    ")\n",
    "df_datapoint_stats_agg.reset_index(inplace=True)\n",
    "df_datapoint_stats_agg.head(1)"
   ]
  },
  {
   "cell_type": "markdown",
   "metadata": {},
   "source": [
    "### How many Total DataPoints Did the Participants Interact With?"
   ]
  },
  {
   "cell_type": "code",
   "execution_count": 29,
   "metadata": {},
   "outputs": [
    {
     "data": {
      "text/html": [
       "<div>\n",
       "<style scoped>\n",
       "    .dataframe tbody tr th:only-of-type {\n",
       "        vertical-align: middle;\n",
       "    }\n",
       "\n",
       "    .dataframe tbody tr th {\n",
       "        vertical-align: top;\n",
       "    }\n",
       "\n",
       "    .dataframe thead th {\n",
       "        text-align: right;\n",
       "    }\n",
       "</style>\n",
       "<table border=\"1\" class=\"dataframe\">\n",
       "  <thead>\n",
       "    <tr style=\"text-align: right;\">\n",
       "      <th></th>\n",
       "      <th>experiment_mode</th>\n",
       "      <th>pid</th>\n",
       "      <th>total_no_of_interacted_datapoints</th>\n",
       "    </tr>\n",
       "  </thead>\n",
       "  <tbody>\n",
       "    <tr>\n",
       "      <th>0</th>\n",
       "      <td>CTRL</td>\n",
       "      <td>0Odg8Ya9cQZM</td>\n",
       "      <td>12</td>\n",
       "    </tr>\n",
       "  </tbody>\n",
       "</table>\n",
       "</div>"
      ],
      "text/plain": [
       "  experiment_mode           pid  total_no_of_interacted_datapoints\n",
       "0            CTRL  0Odg8Ya9cQZM                                 12"
      ]
     },
     "execution_count": 29,
     "metadata": {},
     "output_type": "execute_result"
    }
   ],
   "source": [
    "groupby_cols = [\"experiment_mode\", \"pid\"]\n",
    "subset_cols = groupby_cols + [\"count_hovers\"]\n",
    "df_total_interacted_datapoints = df_datapoint_stats_agg[df_datapoint_stats_agg[\"count_hovers\"] > 0][subset_cols].groupby(groupby_cols).agg(total_no_of_interacted_datapoints=(\"count_hovers\",\"sum\"))\n",
    "df_total_interacted_datapoints.reset_index(inplace=True)\n",
    "df_total_interacted_datapoints.head(1)"
   ]
  },
  {
   "cell_type": "markdown",
   "metadata": {},
   "source": [
    "### How many Unique DataPoints Did the Participants Interact With?"
   ]
  },
  {
   "cell_type": "code",
   "execution_count": 30,
   "metadata": {
    "scrolled": false
   },
   "outputs": [
    {
     "data": {
      "text/html": [
       "<div>\n",
       "<style scoped>\n",
       "    .dataframe tbody tr th:only-of-type {\n",
       "        vertical-align: middle;\n",
       "    }\n",
       "\n",
       "    .dataframe tbody tr th {\n",
       "        vertical-align: top;\n",
       "    }\n",
       "\n",
       "    .dataframe thead th {\n",
       "        text-align: right;\n",
       "    }\n",
       "</style>\n",
       "<table border=\"1\" class=\"dataframe\">\n",
       "  <thead>\n",
       "    <tr style=\"text-align: right;\">\n",
       "      <th></th>\n",
       "      <th>experiment_mode</th>\n",
       "      <th>pid</th>\n",
       "      <th>no_of_unique_interacted_datapoints</th>\n",
       "    </tr>\n",
       "  </thead>\n",
       "  <tbody>\n",
       "    <tr>\n",
       "      <th>0</th>\n",
       "      <td>CTRL</td>\n",
       "      <td>0Odg8Ya9cQZM</td>\n",
       "      <td>11</td>\n",
       "    </tr>\n",
       "  </tbody>\n",
       "</table>\n",
       "</div>"
      ],
      "text/plain": [
       "  experiment_mode           pid  no_of_unique_interacted_datapoints\n",
       "0            CTRL  0Odg8Ya9cQZM                                  11"
      ]
     },
     "execution_count": 30,
     "metadata": {},
     "output_type": "execute_result"
    }
   ],
   "source": [
    "groupby_cols = [\"experiment_mode\", \"pid\"]\n",
    "subset_cols = groupby_cols + [\"id\"]\n",
    "df_unique_interacted_datapoints = df_datapoint_stats[df_datapoint_stats[\"count_hovers\"] > 0][subset_cols].groupby(groupby_cols).agg(no_of_unique_interacted_datapoints=(\"id\",\"count\"))\n",
    "df_unique_interacted_datapoints.reset_index(inplace=True)\n",
    "df_unique_interacted_datapoints.head(1)"
   ]
  },
  {
   "cell_type": "markdown",
   "metadata": {},
   "source": [
    "### How many Datapoints were Hovered across Conditions?"
   ]
  },
  {
   "cell_type": "code",
   "execution_count": 31,
   "metadata": {},
   "outputs": [
    {
     "name": "stderr",
     "output_type": "stream",
     "text": [
      "/Users/curiosity/anaconda3/lib/python3.8/site-packages/numpy/core/_asarray.py:83: VisibleDeprecationWarning: Creating an ndarray from ragged nested sequences (which is a list-or-tuple of lists-or-tuples-or ndarrays with different lengths or shapes) is deprecated. If you meant to do this, you must specify 'dtype=object' when creating the ndarray\n",
      "  return array(a, dtype, copy=False, order=order)\n"
     ]
    },
    {
     "name": "stdout",
     "output_type": "stream",
     "text": [
      "         column experiment_mode   mean  median    std\n",
      "0  count_hovers            CTRL  23.62      22  10.50\n",
      "1  count_hovers              RT  56.73      45  36.38\n",
      "2  count_hovers           RTSUM  66.50      42  52.51\n",
      "3  count_hovers             SUM  55.29      46  37.89\n",
      "P Value:  0.0324\n"
     ]
    },
    {
     "data": {
      "image/png": "[encoded data removed]",
      "text/plain": [
       "<Figure size 360x1440 with 8 Axes>"
      ]
     },
     "metadata": {
      "needs_background": "light"
     },
     "output_type": "display_data"
    }
   ],
   "source": [
    "columns = [\"count_hovers\"]\n",
    "by = [\"experiment_mode\"]\n",
    "filename=\"charts/basic_eda/movies/count_hovers.pdf\"\n",
    "custom_tick_boxplot(df=df_datapoint_stats_agg, \n",
    "                      by=by,\n",
    "                      columns=columns, \n",
    "                      filename=filename)"
   ]
  },
  {
   "cell_type": "markdown",
   "metadata": {},
   "source": [
    "### How many Datapoints were Clicked+Added across Conditions?"
   ]
  },
  {
   "cell_type": "code",
   "execution_count": 32,
   "metadata": {},
   "outputs": [
    {
     "name": "stderr",
     "output_type": "stream",
     "text": [
      "/Users/curiosity/anaconda3/lib/python3.8/site-packages/numpy/core/_asarray.py:83: VisibleDeprecationWarning: Creating an ndarray from ragged nested sequences (which is a list-or-tuple of lists-or-tuples-or ndarrays with different lengths or shapes) is deprecated. If you meant to do this, you must specify 'dtype=object' when creating the ndarray\n",
      "  return array(a, dtype, copy=False, order=order)\n"
     ]
    },
    {
     "name": "stdout",
     "output_type": "stream",
     "text": [
      "            column experiment_mode   mean  median    std\n",
      "0  count_click_add            CTRL  11.62      10   2.43\n",
      "1  count_click_add              RT  16.91      11  11.78\n",
      "2  count_click_add           RTSUM  12.25      11   3.33\n",
      "3  count_click_add             SUM  14.43      11   6.09\n",
      "P Value:  0.2257\n"
     ]
    },
    {
     "data": {
      "image/png": "[encoded data removed]",
      "text/plain": [
       "<Figure size 360x1440 with 8 Axes>"
      ]
     },
     "metadata": {
      "needs_background": "light"
     },
     "output_type": "display_data"
    }
   ],
   "source": [
    "columns = [\"count_click_add\"]\n",
    "by = [\"experiment_mode\"]\n",
    "filename=\"charts/basic_eda/movies/count_click_add.pdf\"\n",
    "custom_tick_boxplot(df=df_datapoint_stats_agg, \n",
    "                      by=by,\n",
    "                      columns=columns, \n",
    "                      filename=filename)"
   ]
  },
  {
   "cell_type": "markdown",
   "metadata": {},
   "source": [
    "### How many Datapoints were Clicked+Removed across Conditions?"
   ]
  },
  {
   "cell_type": "code",
   "execution_count": 33,
   "metadata": {},
   "outputs": [
    {
     "name": "stderr",
     "output_type": "stream",
     "text": [
      "/Users/curiosity/anaconda3/lib/python3.8/site-packages/numpy/core/_asarray.py:83: VisibleDeprecationWarning: Creating an ndarray from ragged nested sequences (which is a list-or-tuple of lists-or-tuples-or ndarrays with different lengths or shapes) is deprecated. If you meant to do this, you must specify 'dtype=object' when creating the ndarray\n",
      "  return array(a, dtype, copy=False, order=order)\n"
     ]
    },
    {
     "name": "stdout",
     "output_type": "stream",
     "text": [
      "               column experiment_mode  mean  median    std\n",
      "0  count_click_remove            CTRL  1.31     0.0   1.84\n",
      "1  count_click_remove              RT  5.36     1.0  10.16\n",
      "2  count_click_remove           RTSUM  2.08     0.5   3.40\n",
      "3  count_click_remove             SUM  2.86     0.5   4.69\n",
      "P Value:  0.3553\n"
     ]
    },
    {
     "data": {
      "image/png": "[encoded data removed]",
      "text/plain": [
       "<Figure size 360x1440 with 8 Axes>"
      ]
     },
     "metadata": {
      "needs_background": "light"
     },
     "output_type": "display_data"
    }
   ],
   "source": [
    "columns = [\"count_click_remove\"]\n",
    "by = [\"experiment_mode\"]\n",
    "filename=\"charts/basic_eda/movies/count_click_remove.pdf\"\n",
    "custom_tick_boxplot(df=df_datapoint_stats_agg, \n",
    "                      by=by,\n",
    "                      columns=columns, \n",
    "                      filename=filename)"
   ]
  },
  {
   "cell_type": "markdown",
   "metadata": {},
   "source": [
    "### How many Datapoints were Clicked (Added + Removed) across Conditions?"
   ]
  },
  {
   "cell_type": "code",
   "execution_count": 34,
   "metadata": {},
   "outputs": [
    {
     "name": "stderr",
     "output_type": "stream",
     "text": [
      "/Users/curiosity/anaconda3/lib/python3.8/site-packages/numpy/core/_asarray.py:83: VisibleDeprecationWarning: Creating an ndarray from ragged nested sequences (which is a list-or-tuple of lists-or-tuples-or ndarrays with different lengths or shapes) is deprecated. If you meant to do this, you must specify 'dtype=object' when creating the ndarray\n",
      "  return array(a, dtype, copy=False, order=order)\n"
     ]
    },
    {
     "name": "stdout",
     "output_type": "stream",
     "text": [
      "        column experiment_mode   mean  median    std\n",
      "0  count_click            CTRL  12.92    10.0   4.27\n",
      "1  count_click              RT  22.27    12.0  21.79\n",
      "2  count_click           RTSUM  14.33    11.5   6.72\n",
      "3  count_click             SUM  17.29    12.0  10.49\n",
      "P Value:  0.2762\n"
     ]
    },
    {
     "data": {
      "image/png": "[encoded data removed]",
      "text/plain": [
       "<Figure size 360x1440 with 8 Axes>"
      ]
     },
     "metadata": {
      "needs_background": "light"
     },
     "output_type": "display_data"
    }
   ],
   "source": [
    "df_datapoint_stats_agg[\"count_click\"] = df_datapoint_stats_agg[\"count_click_add\"] + df_datapoint_stats_agg[\"count_click_remove\"]\n",
    "columns = [\"count_click\"]\n",
    "by = [\"experiment_mode\"]\n",
    "filename=\"charts/basic_eda/movies/count_click.pdf\"\n",
    "custom_tick_boxplot(df=df_datapoint_stats_agg, \n",
    "                      by=by,\n",
    "                      columns=columns, \n",
    "                      filename=filename)"
   ]
  },
  {
   "cell_type": "markdown",
   "metadata": {},
   "source": [
    "### How many Unique Datapoints interacted across Conditions?"
   ]
  },
  {
   "cell_type": "code",
   "execution_count": 35,
   "metadata": {},
   "outputs": [
    {
     "name": "stderr",
     "output_type": "stream",
     "text": [
      "/Users/curiosity/anaconda3/lib/python3.8/site-packages/numpy/core/_asarray.py:83: VisibleDeprecationWarning: Creating an ndarray from ragged nested sequences (which is a list-or-tuple of lists-or-tuples-or ndarrays with different lengths or shapes) is deprecated. If you meant to do this, you must specify 'dtype=object' when creating the ndarray\n",
      "  return array(a, dtype, copy=False, order=order)\n"
     ]
    },
    {
     "name": "stdout",
     "output_type": "stream",
     "text": [
      "                               column experiment_mode   mean  median    std\n",
      "0  no_of_unique_interacted_datapoints            CTRL  16.54    13.0   6.88\n",
      "1  no_of_unique_interacted_datapoints              RT  32.73    38.0  14.01\n",
      "2  no_of_unique_interacted_datapoints           RTSUM  43.67    30.0  37.82\n",
      "3  no_of_unique_interacted_datapoints             SUM  22.79    18.5  14.49\n",
      "P Value:  0.0153\n"
     ]
    },
    {
     "data": {
      "image/png": "[encoded data removed]",
      "text/plain": [
       "<Figure size 360x1440 with 8 Axes>"
      ]
     },
     "metadata": {
      "needs_background": "light"
     },
     "output_type": "display_data"
    }
   ],
   "source": [
    "df_total_vs_unique_datapoints = df_unique_interacted_datapoints.merge(df_total_interacted_datapoints, on=[\"experiment_mode\", \"pid\"], how=\"inner\")\n",
    "df_total_vs_unique_datapoints[\"ratio_total_unique_interacted_datapoints\"] = df_total_vs_unique_datapoints[\"total_no_of_interacted_datapoints\"] / df_total_vs_unique_datapoints[\"no_of_unique_interacted_datapoints\"]\n",
    "df_total_vs_unique_datapoints.head(1)\n",
    "\n",
    "columns = [\"no_of_unique_interacted_datapoints\"]\n",
    "by = [\"experiment_mode\"]\n",
    "filename=\"charts/basic_eda/movies/unique-datapoints-across-condition.pdf\"\n",
    "custom_tick_boxplot(df=df_total_vs_unique_datapoints, \n",
    "                      by=by,\n",
    "                      columns=columns, \n",
    "                      filename=filename)"
   ]
  },
  {
   "cell_type": "code",
   "execution_count": null,
   "metadata": {},
   "outputs": [],
   "source": []
  }
 ],
 "metadata": {
  "kernelspec": {
   "display_name": "Python 3",
   "language": "python",
   "name": "python3"
  },
  "language_info": {
   "codemirror_mode": {
    "name": "ipython",
    "version": 3
   },
   "file_extension": ".py",
   "mimetype": "text/x-python",
   "name": "python",
   "nbconvert_exporter": "python",
   "pygments_lexer": "ipython3",
   "version": "3.8.5"
  }
 },
 "nbformat": 4,
 "nbformat_minor": 4
}
