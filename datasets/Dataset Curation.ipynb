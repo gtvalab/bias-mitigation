{
 "cells": [
  {
   "cell_type": "markdown",
   "metadata": {},
   "source": [
    "## Imports"
   ]
  },
  {
   "cell_type": "code",
   "execution_count": 1,
   "metadata": {},
   "outputs": [],
   "source": [
    "import pandas as pd"
   ]
  },
  {
   "cell_type": "markdown",
   "metadata": {},
   "source": [
    "## Constants"
   ]
  },
  {
   "cell_type": "code",
   "execution_count": 2,
   "metadata": {},
   "outputs": [],
   "source": [
    "political_file = 'political.csv'\n",
    "colleges_file = 'colleges.csv'\n",
    "movies_file = 'movies-w-year.csv'"
   ]
  },
  {
   "cell_type": "markdown",
   "metadata": {},
   "source": [
    "## Read Data"
   ]
  },
  {
   "cell_type": "code",
   "execution_count": 3,
   "metadata": {},
   "outputs": [],
   "source": [
    "political_data = pd.read_csv(political_file)\n",
    "colleges_data = pd.read_csv(colleges_file)\n",
    "movies_data = pd.read_csv(movies_file)"
   ]
  },
  {
   "cell_type": "code",
   "execution_count": 4,
   "metadata": {},
   "outputs": [],
   "source": [
    "colleges_data = colleges_data[colleges_data.Region.isin(['Southeast', 'Southwest', 'Far West', 'New England', 'Rocky Mountains', 'Great Plains'])]\n",
    "colleges_data = colleges_data[colleges_data.Locale.isin(['Small City', 'Small Suburb', 'Mid-size City', 'Mid-size Suburb', 'Large City', 'Large Suburb'])]\n",
    "colleges_data = colleges_data.sample(180)\n",
    "colleges_data.to_csv('colleges_sampled.csv')"
   ]
  },
  {
   "cell_type": "code",
   "execution_count": 5,
   "metadata": {},
   "outputs": [],
   "source": [
    "movies_data = movies_data[movies_data.Genre.isin(['Comedy', 'Drama', 'Action', 'Documentary', 'Musical', 'Thriller'])]\n",
    "movies_data = movies_data[movies_data['Creative Type'].isin(['Contemporary Fiction', 'Dramatization', 'Factual', 'Fantasy', 'Science Fiction', 'Super Hero'])]\n",
    "movies_data = movies_data.sample(180)\n",
    "movies_data.to_csv('movies_sampled.csv')"
   ]
  },
  {
   "cell_type": "code",
   "execution_count": null,
   "metadata": {},
   "outputs": [],
   "source": []
  }
 ],
 "metadata": {
  "kernelspec": {
   "display_name": "Python (snakes)",
   "language": "python",
   "name": "snakes"
  },
  "language_info": {
   "codemirror_mode": {
    "name": "ipython",
    "version": 3
   },
   "file_extension": ".py",
   "mimetype": "text/x-python",
   "name": "python",
   "nbconvert_exporter": "python",
   "pygments_lexer": "ipython3",
   "version": "3.6.12"
  }
 },
 "nbformat": 4,
 "nbformat_minor": 4
}
